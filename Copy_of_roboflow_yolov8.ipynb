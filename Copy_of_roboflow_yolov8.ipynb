{
  "cells": [
    {
      "cell_type": "markdown",
      "metadata": {
        "id": "view-in-github",
        "colab_type": "text"
      },
      "source": [
        "<a href=\"https://colab.research.google.com/github/Hilbertrui/Hibertrui/blob/main/Copy_of_roboflow_yolov8.ipynb\" target=\"_parent\"><img src=\"https://colab.research.google.com/assets/colab-badge.svg\" alt=\"Open In Colab\"/></a>"
      ]
    },
    {
      "cell_type": "markdown",
      "source": [
        "[YOLOv8 of roboflow](https://colab.research.google.com/github/QIN2DIM/hcaptcha-challenger/blob/main/automation/roboflow_yolov8.ipynb)"
      ],
      "metadata": {
        "collapsed": false,
        "id": "WbTUSkWuR8tc"
      }
    },
    {
      "cell_type": "code",
      "source": [
        "#检查GPU状态"
      ],
      "metadata": {
        "id": "rOVRM8j8CPc4"
      },
      "execution_count": null,
      "outputs": []
    },
    {
      "cell_type": "code",
      "execution_count": null,
      "outputs": [],
      "source": [
        "!nvidia-smi"
      ],
      "metadata": {
        "id": "sDZrpq8jR8tg"
      }
    },
    {
      "cell_type": "code",
      "source": [
        "#安装ONNX相关库和YOLOv8的ultralytics库"
      ],
      "metadata": {
        "id": "F9vVY2z8CTV5"
      },
      "execution_count": null,
      "outputs": []
    },
    {
      "cell_type": "code",
      "execution_count": null,
      "metadata": {
        "id": "tdSMcABDNKW-"
      },
      "outputs": [],
      "source": [
        "!pip install -U onnx onnxruntime-gpu onnxruntime\n",
        "!pip install ultralytics==8.0.202"
      ]
    },
    {
      "cell_type": "code",
      "source": [
        "#训练AI"
      ],
      "metadata": {
        "id": "sDf_V55uDAQb"
      },
      "execution_count": null,
      "outputs": []
    },
    {
      "cell_type": "code",
      "execution_count": null,
      "outputs": [],
      "source": [
        "import os\n",
        "import shutil\n",
        "from pathlib import Path\n",
        "\n",
        "#初始化yolo模型\n",
        "from ultralytics import YOLO\n",
        "HOME = os.getcwd()\n",
        "%cd {HOME}\n",
        "challenge_dir_name = \"animal-head-2310-1\"\n",
        "output_model_name = \"head_of_the_animal_2311_yolov8s.onnx\"\n",
        "\n",
        "#yolo的路径\n",
        "this_dir = Path(os.path.abspath(\"__file__\")).parent\n",
        "yolo_data_dir = this_dir.joinpath(challenge_dir_name)\n",
        "yolo_inspect_path = yolo_data_dir.joinpath(\"data.yaml\")\n",
        "\n",
        "#训练\n",
        "model = YOLO(\"yolov8s.pt\")  # detection\n",
        "# model = YOLO(\"yolov8s-seg.pt\") # segment\n",
        "model.train(data=str(yolo_inspect_path), epochs=300, imgsz=640)"
      ],
      "metadata": {
        "id": "ndno6LlFR8tj"
      }
    },
    {
      "cell_type": "code",
      "source": [
        "#训练好的模型导出为ONNX"
      ],
      "metadata": {
        "id": "NV8Ds_T1Dg6U"
      },
      "execution_count": null,
      "outputs": []
    },
    {
      "cell_type": "code",
      "execution_count": null,
      "outputs": [],
      "source": [
        "# detection\n",
        "yolo_best_pt_path = this_dir.joinpath(\"runs/detect/train/weights/best.pt\")\n",
        "yolo_onnx_path = this_dir.joinpath(\"runs/detect/train/weights/best.onnx\")\n",
        "\n",
        "# segment\n",
        "# yolo_best_pt_path = this_dir.joinpath(\"runs/segment/train/weights/best.pt\")\n",
        "# yolo_onnx_path = this_dir.joinpath(\"runs/segment/train/weights/best.onnx\")\n",
        "\n",
        "model_path = this_dir.joinpath(output_model_name)\n",
        "\n",
        "# export to onnx\n",
        "YOLO(str(yolo_best_pt_path)).export(format=\"onnx\", simplify=True, int8=True)\n",
        "\n",
        "# copy to current work dir\n",
        "shutil.copyfile(yolo_onnx_path, model_path)"
      ],
      "metadata": {
        "id": "peZ6NJqlR8tk"
      }
    },
    {
      "cell_type": "code",
      "source": [
        "#上传到Github"
      ],
      "metadata": {
        "id": "xPLXaRfvDp1f"
      },
      "execution_count": null,
      "outputs": []
    },
    {
      "cell_type": "code",
      "execution_count": null,
      "outputs": [],
      "source": [
        "import locale\n",
        "\n",
        "locale.getpreferredencoding = lambda d=True: \"UTF-8\"\n",
        "\n",
        "!pip install PyGithub\n",
        "\n",
        "from github import Auth, Github, GithubException\n",
        "\n",
        "auth = Auth.Token(os.getenv(\"GITHUB_TOKEN\", \"\"))\n",
        "repo = Github(auth=auth).get_repo(\"QIN2DIM/hcaptcha-challenger\")\n",
        "modelhub_title = \"ONNX ModelHub\"\n",
        "\n",
        "\n",
        "def quick_development(pending_onnx_path: Path):\n",
        "    if not pending_onnx_path.exists() or not pending_onnx_path.name.endswith(\".onnx\"):\n",
        "        return\n",
        "\n",
        "    for release in repo.get_releases():\n",
        "        if release.title != modelhub_title:\n",
        "            continue\n",
        "        try:\n",
        "            res = release.upload_asset(path=str(pending_onnx_path))\n",
        "        except GithubException as err:\n",
        "            if err.status == 422:\n",
        "                print(\n",
        "                    \"The model file already exists, please manually replace the file with the same\"\n",
        "                    f\" name - url={repo.releases_url}\"\n",
        "                )\n",
        "        except Exception as err:\n",
        "            print(err)\n",
        "        else:\n",
        "            print(\n",
        "                f\"Model file uploaded successfully - name={res.name} url={res.browser_download_url}\"\n",
        "            )\n",
        "\n",
        "\n",
        "quick_development(pending_onnx_path=model_path)"
      ],
      "metadata": {
        "id": "qVcJ8WiqR8tl"
      }
    }
  ],
  "metadata": {
    "accelerator": "GPU",
    "colab": {
      "provenance": [],
      "include_colab_link": true
    },
    "kernelspec": {
      "name": "python3",
      "language": "python",
      "display_name": "Python 3 (ipykernel)"
    },
    "language_info": {
      "name": "python"
    }
  },
  "nbformat": 4,
  "nbformat_minor": 0
}